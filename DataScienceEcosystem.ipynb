{
 "cells": [
  {
   "cell_type": "markdown",
   "id": "c852f5e2-d744-4c4a-86ef-5e81a6012af5",
   "metadata": {},
   "source": [
    "# Data Science Tools and Ecosystem"
   ]
  },
  {
   "cell_type": "markdown",
   "id": "927e5429-9718-4cf0-af18-e21e72ea0691",
   "metadata": {},
   "source": [
    "in this notebook, Data Science Tools and Ecosystem are summarized "
   ]
  },
  {
   "cell_type": "markdown",
   "id": "fad8267d-e825-4e98-af88-8a675fd3e7e3",
   "metadata": {},
   "source": [
    "Some of the popular languages that Data Scientist use are:\n",
    "1. C\n",
    "2. JavaScript\n",
    "3. Python\n",
    "4. C++"
   ]
  },
  {
   "cell_type": "markdown",
   "id": "3b42fa4f-aea9-4b23-a220-8b8e0faee64e",
   "metadata": {},
   "source": [
    "Some of the commonly used libraries used by data scientists include:\n",
    "1. Matplotlib\n",
    "2. Tensorflow\n",
    "3. ggplot"
   ]
  },
  {
   "cell_type": "markdown",
   "id": "ef190b6c-dcc1-4fea-a78c-6a9c0713cd75",
   "metadata": {},
   "source": [
    "|Data Science Tools|\n",
    "|------|\n",
    "|Jupyter Notebook|\n",
    "|Anaconda|\n",
    "|Apache Spark|"
   ]
  },
  {
   "cell_type": "markdown",
   "id": "f063b8fa-8f26-49d3-b35f-32290e5efc83",
   "metadata": {},
   "source": [
    "### Below are a few examples of evaluating arithmetic expressions in Python"
   ]
  },
  {
   "cell_type": "code",
   "execution_count": 3,
   "id": "cc66ec04-be13-4d8d-a377-cca496214ad3",
   "metadata": {},
   "outputs": [
    {
     "data": {
      "text/plain": [
       "17"
      ]
     },
     "execution_count": 3,
     "metadata": {},
     "output_type": "execute_result"
    }
   ],
   "source": [
    "#in this code cell we test basic arithmetic expressions\n",
    "int((3*11+1)/2)"
   ]
  },
  {
   "cell_type": "code",
   "execution_count": 4,
   "id": "012aaf10-8af3-4ec9-aac5-6dc63892be8a",
   "metadata": {},
   "outputs": [
    {
     "data": {
      "text/plain": [
       "17"
      ]
     },
     "execution_count": 4,
     "metadata": {},
     "output_type": "execute_result"
    }
   ],
   "source": [
    "#just in case, I was getting a floating number for having a bit too much fun\n",
    "(3*4)+5"
   ]
  },
  {
   "cell_type": "code",
   "execution_count": 17,
   "id": "aa4fb090-8ec1-44f2-b626-42dc93fee818",
   "metadata": {},
   "outputs": [
    {
     "name": "stdout",
     "output_type": "stream",
     "text": [
      "3.33\n"
     ]
    }
   ],
   "source": [
    "#Minutes to hour samples\n",
    "minutes=200\n",
    "hours=minutes/60\n",
    "print(round(hours,2))"
   ]
  },
  {
   "cell_type": "code",
   "execution_count": 19,
   "id": "60a23f65-cf60-4394-a3a5-9ade7d1dde0a",
   "metadata": {},
   "outputs": [
    {
     "name": "stdout",
     "output_type": "stream",
     "text": [
      "3 : 20\n"
     ]
    }
   ],
   "source": [
    "#for hour and minutes:\n",
    "h=minutes//60\n",
    "m=minutes%60\n",
    "print(h,':',m)"
   ]
  },
  {
   "cell_type": "markdown",
   "id": "3a37a26d-dee9-42a9-a495-b32778ceeef0",
   "metadata": {},
   "source": [
    "Objectives:\n",
    "- Python\n",
    "- C\n",
    "- C++\n",
    "- SQL\n",
    "- JavaScript"
   ]
  },
  {
   "cell_type": "markdown",
   "id": "19f5a1f9-0e4e-432b-8802-d591a867eae3",
   "metadata": {},
   "source": [
    "## Author:\n",
    "Esteban Romero\n",
    "\n",
    "Former Visual Studio enthusiast, recently graduated in automation engineering"
   ]
  },
  {
   "cell_type": "code",
   "execution_count": null,
   "id": "ae8dbfa8-fe08-4daf-b008-512996745497",
   "metadata": {},
   "outputs": [],
   "source": []
  }
 ],
 "metadata": {
  "kernelspec": {
   "display_name": "Python 3 (ipykernel)",
   "language": "python",
   "name": "python3"
  },
  "language_info": {
   "codemirror_mode": {
    "name": "ipython",
    "version": 3
   },
   "file_extension": ".py",
   "mimetype": "text/x-python",
   "name": "python",
   "nbconvert_exporter": "python",
   "pygments_lexer": "ipython3",
   "version": "3.12.8"
  }
 },
 "nbformat": 4,
 "nbformat_minor": 5
}
